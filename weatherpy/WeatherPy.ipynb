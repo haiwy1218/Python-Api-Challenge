{
 "cells": [
  {
   "cell_type": "markdown",
   "metadata": {},
   "source": [
    "# WeatherPy\n",
    "----\n",
    "\n",
    "#### Note\n",
    "* Instructions have been included for each segment. You do not have to follow them exactly, but they are included to help you think through the steps."
   ]
  },
  {
   "cell_type": "code",
   "execution_count": 1,
   "metadata": {
    "scrolled": true
   },
   "outputs": [],
   "source": [
    "# Dependencies and Setup\n",
    "import matplotlib.pyplot as plt\n",
    "import pandas as pd\n",
    "import numpy as np\n",
    "import requests\n",
    "import time\n",
    "from scipy.stats import linregress\n",
    "\n",
    "# Import API key\n",
    "from api_keys import weather_api_key\n",
    "\n",
    "# Incorporated citipy to determine city based on latitude and longitude\n",
    "from citipy import citipy\n",
    "\n",
    "# Output File (CSV)\n",
    "output_data_file = \"output_data/cities.csv\"\n",
    "\n",
    "# Range of latitudes and longitudes\n",
    "lat_range = (-90, 90)\n",
    "lng_range = (-180, 180)"
   ]
  },
  {
   "cell_type": "markdown",
   "metadata": {},
   "source": [
    "## Generate Cities List"
   ]
  },
  {
   "cell_type": "code",
   "execution_count": 4,
   "metadata": {},
   "outputs": [
    {
     "data": {
      "text/plain": [
       "604"
      ]
     },
     "execution_count": 4,
     "metadata": {},
     "output_type": "execute_result"
    }
   ],
   "source": [
    "# List for holding lat_lngs and cities\n",
    "lat_lngs = []\n",
    "cities = []\n",
    "\n",
    "# Create a set of random lat and lng combinations\n",
    "lats = np.random.uniform(lat_range[0], lat_range[1], size=1500)\n",
    "lngs = np.random.uniform(lng_range[0], lng_range[1], size=1500)\n",
    "lat_lngs = zip(lats, lngs)\n",
    "\n",
    "# Identify nearest city for each lat, lng combination\n",
    "for lat_lng in lat_lngs:\n",
    "    city = citipy.nearest_city(lat_lng[0], lat_lng[1]).city_name\n",
    "    \n",
    "    # If the city is unique, then add it to a our cities list\n",
    "    if city not in cities:\n",
    "        cities.append(city)\n",
    "\n",
    "# Print the city count to confirm sufficient count\n",
    "len(cities)"
   ]
  },
  {
   "cell_type": "markdown",
   "metadata": {},
   "source": [
    "### Perform API Calls\n",
    "* Perform a weather check on each city using a series of successive API calls.\n",
    "* Include a print log of each city as it'sbeing processed (with the city number and city name).\n"
   ]
  },
  {
   "cell_type": "code",
   "execution_count": 5,
   "metadata": {
    "scrolled": true
   },
   "outputs": [
    {
     "name": "stdout",
     "output_type": "stream",
     "text": [
      "processing record |port elizabeth\n",
      "processing record |busselton\n",
      "processing record |mahebourg\n",
      "processing record |victoria\n",
      "processing record |illoqqortoormiut\n",
      "city not found. skipping\n",
      "processing record |rikitea\n",
      "processing record |lakes entrance\n",
      "processing record |puerto ayora\n",
      "processing record |ushuaia\n",
      "processing record |kaeo\n",
      "processing record |mataura\n",
      "processing record |binghamton\n",
      "processing record |pedernales\n",
      "processing record |atuona\n",
      "processing record |tsienyane\n",
      "city not found. skipping\n",
      "processing record |uri\n",
      "processing record |punta arenas\n",
      "processing record |saint george\n",
      "processing record |port hardy\n",
      "processing record |attawapiskat\n",
      "city not found. skipping\n",
      "processing record |bambanglipuro\n",
      "processing record |olbia\n",
      "processing record |castro\n",
      "processing record |hobart\n",
      "processing record |hithadhoo\n",
      "processing record |qaanaaq\n",
      "processing record |armacao dos buzios\n",
      "city not found. skipping\n",
      "processing record |saint-philippe\n",
      "processing record |guerrero negro\n",
      "processing record |provideniya\n",
      "processing record |aksarka\n",
      "processing record |kanniyakumari\n",
      "processing record |coahuayana\n",
      "processing record |mar del plata\n",
      "processing record |gamboma\n",
      "processing record |port alfred\n",
      "processing record |huarmey\n",
      "processing record |pryozerne\n",
      "processing record |lagoa\n",
      "processing record |kuche\n",
      "city not found. skipping\n",
      "processing record |east london\n",
      "processing record |coffs harbour\n",
      "processing record |port-gentil\n",
      "processing record |chabahar\n",
      "processing record |severo-kurilsk\n",
      "processing record |constitucion\n",
      "processing record |barrow\n",
      "processing record |faanui\n",
      "processing record |jamestown\n",
      "processing record |bengkulu\n",
      "processing record |new norfolk\n",
      "processing record |kirakira\n",
      "processing record |kushima\n",
      "processing record |petropavlovsk-kamchatskiy\n",
      "processing record |bandarbeyla\n",
      "processing record |kaitangata\n",
      "processing record |san cristobal\n",
      "processing record |portland\n",
      "processing record |hermanus\n",
      "processing record |sandpoint\n",
      "processing record |hasaki\n",
      "processing record |hilo\n",
      "processing record |tanete\n",
      "processing record |gunjur\n",
      "processing record |butaritari\n",
      "processing record |poum\n",
      "processing record |bathsheba\n",
      "processing record |albany\n",
      "processing record |port hedland\n",
      "processing record |kapaa\n",
      "processing record |khani\n",
      "processing record |cowansville\n",
      "processing record |kodiak\n",
      "processing record |bluff\n",
      "processing record |avarua\n",
      "processing record |road town\n",
      "processing record |rovnoye\n",
      "processing record |sao francisco de assis\n",
      "processing record |lazaro cardenas\n",
      "processing record |mojokerto\n",
      "processing record |belyy\n",
      "processing record |tiksi\n",
      "processing record |bundaberg\n",
      "processing record |cape town\n",
      "processing record |dikson\n",
      "processing record |zomin\n",
      "processing record |srednekolymsk\n",
      "processing record |nortelandia\n",
      "processing record |leningradskiy\n",
      "processing record |bethel\n",
      "processing record |vardo\n",
      "processing record |dalby\n",
      "processing record |mys shmidta\n",
      "city not found. skipping\n",
      "processing record |longyearbyen\n",
      "processing record |la malbaie\n",
      "processing record |bonavista\n",
      "processing record |bredasdorp\n",
      "processing record |pasighat\n",
      "processing record |novaya zaimka\n",
      "processing record |maple creek\n",
      "processing record |amarante\n",
      "processing record |ponta delgada\n",
      "processing record |christchurch\n",
      "processing record |vila franca do campo\n",
      "processing record |kruisfontein\n",
      "processing record |imeni zhelyabova\n",
      "processing record |atambua\n",
      "processing record |pevek\n",
      "processing record |arraial do cabo\n",
      "processing record |dutse\n",
      "processing record |taolanaro\n",
      "city not found. skipping\n",
      "processing record |saint-joseph\n",
      "processing record |grindavik\n",
      "processing record |codrington\n",
      "processing record |vaini\n",
      "processing record |nyurba\n",
      "processing record |dunedin\n",
      "processing record |saleaula\n",
      "city not found. skipping\n",
      "processing record |sorvag\n",
      "city not found. skipping\n",
      "processing record |nanortalik\n",
      "processing record |norman wells\n",
      "processing record |sangre grande\n",
      "processing record |bougouni\n",
      "processing record |kantang\n",
      "processing record |aripuana\n",
      "processing record |cap malheureux\n",
      "processing record |eureka\n",
      "processing record |rodeo\n",
      "processing record |lebu\n",
      "processing record |souillac\n",
      "processing record |vao\n",
      "processing record |falun\n",
      "processing record |kudahuvadhoo\n",
      "processing record |linqing\n",
      "processing record |whitianga\n",
      "processing record |sur\n",
      "processing record |skjaerhollen\n",
      "city not found. skipping\n",
      "processing record |hofn\n",
      "processing record |caravelas\n",
      "processing record |yellowknife\n",
      "processing record |ambon\n",
      "processing record |samusu\n",
      "city not found. skipping\n",
      "processing record |suhbaatar\n",
      "processing record |quepos\n",
      "processing record |point fortin\n",
      "processing record |bereda\n",
      "processing record |vila velha\n",
      "processing record |bubaque\n",
      "processing record |hermosillo\n",
      "processing record |chokurdakh\n",
      "processing record |kyenjojo\n",
      "processing record |valparaiso\n",
      "processing record |gizo\n",
      "processing record |shenjiamen\n",
      "processing record |ermioni\n",
      "processing record |guanare\n",
      "processing record |makakilo city\n",
      "processing record |samana\n",
      "processing record |grand gaube\n",
      "processing record |cabrobo\n",
      "processing record |bronnoysund\n",
      "processing record |henties bay\n",
      "processing record |xining\n",
      "processing record |maragogi\n",
      "processing record |deming\n",
      "processing record |nantucket\n",
      "processing record |yaan\n",
      "processing record |saldanha\n",
      "processing record |byron bay\n",
      "processing record |saskylakh\n",
      "processing record |kiunga\n",
      "processing record |ust-kut\n",
      "processing record |haian\n",
      "processing record |vondrozo\n",
      "processing record |fortuna\n",
      "processing record |mitsamiouli\n",
      "processing record |paamiut\n",
      "processing record |lacombe\n",
      "processing record |lasa\n",
      "processing record |chapais\n",
      "processing record |bukachacha\n",
      "processing record |abrau-dyurso\n",
      "processing record |mount gambier\n",
      "processing record |sisimiut\n",
      "processing record |nguiu\n",
      "city not found. skipping\n",
      "processing record |cherskiy\n",
      "processing record |cidreira\n",
      "processing record |nikolskoye\n",
      "processing record |aklavik\n",
      "processing record |waingapu\n",
      "processing record |tuy hoa\n",
      "processing record |zhangye\n",
      "processing record |kathu\n",
      "processing record |tuktoyaktuk\n",
      "processing record |lucapa\n",
      "processing record |sobolevo\n",
      "processing record |tumannyy\n",
      "city not found. skipping\n",
      "processing record |carnarvon\n",
      "processing record |gawler\n",
      "processing record |sambava\n",
      "processing record |lixourion\n",
      "processing record |maine-soroa\n",
      "processing record |klaksvik\n",
      "processing record |chuy\n",
      "processing record |sakakah\n",
      "processing record |ekibastuz\n",
      "processing record |coxim\n",
      "processing record |mukhen\n",
      "processing record |atikokan\n",
      "processing record |ukiah\n",
      "processing record |galveston\n",
      "processing record |oranjestad\n",
      "processing record |lompoc\n",
      "processing record |shiyan\n",
      "processing record |banda aceh\n",
      "processing record |edeia\n",
      "processing record |luderitz\n",
      "processing record |turayf\n",
      "processing record |sumy\n",
      "processing record |port blair\n",
      "processing record |caluquembe\n",
      "processing record |saint-leu\n",
      "processing record |cabo san lucas\n",
      "processing record |katsuura\n",
      "processing record |shingu\n",
      "processing record |cockburn town\n",
      "processing record |kenai\n",
      "processing record |necochea\n",
      "processing record |semenyih\n",
      "processing record |carauari\n",
      "processing record |kibala\n",
      "processing record |cosala\n",
      "processing record |westport\n",
      "processing record |saint-augustin\n",
      "processing record |santa maria\n",
      "processing record |varde\n",
      "processing record |nouakchott\n",
      "processing record |dicabisagan\n",
      "processing record |asfi\n",
      "processing record |palmer\n",
      "processing record |sechura\n",
      "processing record |yashkul\n",
      "processing record |teya\n",
      "processing record |amparafaravola\n",
      "processing record |port lincoln\n",
      "processing record |gornopravdinsk\n",
      "processing record |beringovskiy\n",
      "processing record |gushikawa\n",
      "processing record |fairbanks\n",
      "processing record |mosquera\n",
      "processing record |belaya gora\n",
      "processing record |gainesville\n",
      "processing record |fort nelson\n",
      "processing record |kewanee\n",
      "processing record |burica\n",
      "city not found. skipping\n",
      "processing record |mariental\n",
      "processing record |inirida\n",
      "processing record |vanimo\n",
      "processing record |atka\n",
      "city not found. skipping\n",
      "processing record |tezu\n",
      "processing record |dingle\n",
      "processing record |masindi\n",
      "processing record |georgetown\n",
      "processing record |araguaina\n",
      "processing record |anori\n",
      "processing record |ribeira grande\n",
      "processing record |iquique\n",
      "processing record |haines junction\n",
      "processing record |aykhal\n",
      "processing record |verkhnyaya inta\n",
      "processing record |ponta do sol\n",
      "processing record |san patricio\n",
      "processing record |torbay\n",
      "processing record |ngukurr\n"
     ]
    },
    {
     "name": "stdout",
     "output_type": "stream",
     "text": [
      "city not found. skipping\n",
      "processing record |alta gracia\n",
      "processing record |halalo\n",
      "city not found. skipping\n",
      "processing record |karakose\n",
      "city not found. skipping\n",
      "processing record |toccoa\n",
      "processing record |matara\n",
      "processing record |bilma\n",
      "processing record |sabha\n",
      "processing record |chifeng\n",
      "processing record |mount isa\n",
      "processing record |nikel\n",
      "processing record |malwan\n",
      "city not found. skipping\n",
      "processing record |khatanga\n",
      "processing record |sao filipe\n",
      "processing record |humaita\n",
      "processing record |bassano\n",
      "processing record |yatou\n",
      "processing record |shirokiy\n",
      "processing record |moscow\n",
      "processing record |canguaretama\n",
      "processing record |thanh hoa\n",
      "processing record |melo\n",
      "processing record |esperance\n",
      "processing record |pringsewu\n",
      "processing record |west wendover\n",
      "processing record |carballo\n",
      "processing record |kloulklubed\n",
      "processing record |bambous virieux\n",
      "processing record |kankan\n",
      "processing record |mayo\n",
      "processing record |dennery\n",
      "processing record |waipawa\n",
      "processing record |itacoatiara\n",
      "processing record |akureyri\n",
      "processing record |la ronge\n",
      "processing record |pangody\n",
      "processing record |ahar\n",
      "processing record |tura\n",
      "processing record |belushya guba\n",
      "city not found. skipping\n",
      "processing record |cam ranh\n",
      "processing record |richards bay\n",
      "processing record |dongobesh\n",
      "processing record |mananara\n",
      "processing record |la grande\n",
      "processing record |sangar\n",
      "processing record |bibiani\n",
      "processing record |le pradet\n",
      "processing record |puerto escondido\n",
      "processing record |asau\n",
      "processing record |ucluelet\n",
      "processing record |sorada\n",
      "processing record |jiwani\n",
      "processing record |marcona\n",
      "city not found. skipping\n",
      "processing record |ixtapa\n",
      "processing record |toftir\n",
      "city not found. skipping\n",
      "processing record |koutiala\n",
      "processing record |galapagar\n",
      "processing record |te anau\n",
      "processing record |tsihombe\n",
      "city not found. skipping\n",
      "processing record |clyde river\n",
      "processing record |rio gallegos\n",
      "processing record |bolungarvik\n",
      "city not found. skipping\n",
      "processing record |jati\n",
      "processing record |mahibadhoo\n",
      "processing record |kyshtovka\n",
      "processing record |paramonga\n",
      "processing record |sinnamary\n",
      "processing record |cootamundra\n",
      "processing record |kawalu\n",
      "processing record |upernavik\n",
      "processing record |kimparana\n",
      "processing record |kayerkan\n",
      "processing record |college\n",
      "processing record |baringo\n",
      "processing record |kapiri mposhi\n",
      "processing record |umzimvubu\n",
      "city not found. skipping\n",
      "processing record |hirado\n",
      "processing record |tirat karmel\n",
      "processing record |airai\n",
      "processing record |omsukchan\n",
      "processing record |naze\n",
      "processing record |padang\n",
      "processing record |namatanai\n",
      "processing record |mildura\n",
      "processing record |tres arroyos\n",
      "processing record |umea\n",
      "processing record |kargopol\n",
      "processing record |yulara\n",
      "processing record |vestmanna\n",
      "processing record |falmouth\n",
      "processing record |tasiilaq\n",
      "processing record |kavieng\n",
      "processing record |havre\n",
      "processing record |kouroussa\n",
      "processing record |jiroft\n",
      "city not found. skipping\n",
      "processing record |ondorhaan\n",
      "city not found. skipping\n",
      "processing record |alyangula\n",
      "processing record |iqaluit\n",
      "processing record |cayenne\n",
      "processing record |ambovombe\n",
      "processing record |shimoga\n",
      "processing record |columbus\n",
      "processing record |saint-pierre\n",
      "processing record |alice springs\n",
      "processing record |grand bank\n",
      "processing record |big rapids\n",
      "processing record |ishigaki\n",
      "processing record |ketchikan\n",
      "processing record |amderma\n",
      "city not found. skipping\n",
      "processing record |gornyy\n",
      "processing record |gweta\n",
      "processing record |barentsburg\n",
      "city not found. skipping\n",
      "processing record |haimen\n",
      "processing record |yar-sale\n",
      "processing record |harper\n",
      "processing record |misratah\n",
      "processing record |talnakh\n",
      "processing record |bhopal\n",
      "processing record |nagato\n",
      "processing record |yanam\n",
      "processing record |beroroha\n",
      "processing record |temuco\n",
      "processing record |the valley\n",
      "processing record |najran\n",
      "processing record |ilo\n",
      "processing record |punta alta\n",
      "processing record |dingli\n",
      "processing record |itarema\n",
      "processing record |pisco\n",
      "processing record |miedzychod\n",
      "processing record |naron\n",
      "processing record |agadez\n",
      "processing record |sorland\n",
      "processing record |flagstaff\n",
      "processing record |moreira sales\n",
      "processing record |gazli\n",
      "processing record |geraldton\n",
      "processing record |bosaso\n",
      "processing record |sentyabrskiy\n",
      "city not found. skipping\n",
      "processing record |tabiauea\n",
      "city not found. skipping\n",
      "processing record |ust-ilimsk\n",
      "processing record |sao joao da barra\n",
      "processing record |hays\n",
      "processing record |sungurlare\n",
      "processing record |massaguet\n",
      "processing record |arkhara\n",
      "processing record |puerto cabezas\n",
      "processing record |ipira\n",
      "processing record |aromashevo\n",
      "processing record |rauma\n",
      "processing record |bondo\n",
      "processing record |maniitsoq\n",
      "processing record |husavik\n",
      "processing record |channel-port aux basques\n",
      "processing record |oltu\n",
      "processing record |kahului\n",
      "processing record |san policarpo\n",
      "processing record |saint anthony\n",
      "processing record |rawicz\n",
      "processing record |narsaq\n",
      "processing record |opuwo\n",
      "processing record |aswan\n",
      "processing record |san estanislao\n",
      "processing record |kericho\n",
      "processing record |hay river\n",
      "processing record |catumbela\n",
      "processing record |ilulissat\n",
      "processing record |vostok\n",
      "processing record |gabriel leyva solano\n",
      "processing record |thompson\n",
      "processing record |ituni\n",
      "city not found. skipping\n",
      "processing record |luanda\n",
      "processing record |palabuhanratu\n",
      "city not found. skipping\n",
      "processing record |chernyshevskiy\n",
      "processing record |broome\n",
      "processing record |badvel\n",
      "processing record |marondera\n",
      "processing record |wawa\n",
      "processing record |bontang\n",
      "processing record |surt\n",
      "processing record |lata\n",
      "processing record |arvika\n",
      "processing record |jiuquan\n",
      "processing record |lalmohan\n",
      "processing record |mehamn\n",
      "processing record |yaring\n",
      "processing record |bria\n",
      "processing record |yeppoon\n",
      "processing record |nyrob\n",
      "processing record |korla\n",
      "processing record |corleone\n",
      "processing record |guiren\n",
      "processing record |santa marta\n",
      "processing record |luau\n",
      "processing record |brahasesti\n",
      "processing record |raton\n",
      "processing record |warqla\n",
      "city not found. skipping\n",
      "processing record |mme\n",
      "city not found. skipping\n",
      "processing record |puerto del rosario\n",
      "processing record |ribeira do pombal\n",
      "processing record |alofi\n",
      "processing record |isangel\n",
      "processing record |sitka\n",
      "processing record |senneterre\n",
      "processing record |mogzon\n",
      "processing record |warah\n",
      "processing record |minna\n",
      "processing record |milingimbi\n",
      "city not found. skipping\n",
      "processing record |foam lake\n",
      "processing record |sao joao da ponte\n",
      "processing record |toora-khem\n",
      "processing record |lorengau\n",
      "processing record |ziro\n",
      "processing record |kampong thum\n",
      "processing record |east hemet\n",
      "processing record |chachapoyas\n",
      "processing record |rungata\n",
      "city not found. skipping\n",
      "processing record |sumenep\n",
      "processing record |grand river south east\n",
      "city not found. skipping\n",
      "processing record |santa fe\n",
      "processing record |axim\n",
      "processing record |buin\n",
      "processing record |sumter\n",
      "processing record |havoysund\n",
      "processing record |kadykchan\n",
      "city not found. skipping\n",
      "processing record |nioro\n",
      "processing record |turka\n",
      "processing record |clinton\n",
      "processing record |darhan\n",
      "processing record |prince rupert\n",
      "processing record |oussouye\n",
      "processing record |touros\n",
      "processing record |north bend\n",
      "processing record |fountain hills\n",
      "processing record |lolua\n",
      "city not found. skipping\n",
      "processing record |mendahara\n",
      "city not found. skipping\n",
      "processing record |la palma\n",
      "processing record |ngunguru\n",
      "processing record |evensk\n",
      "processing record |nabire\n",
      "processing record |krasnovishersk\n",
      "processing record |nizhneudinsk\n",
      "processing record |anqiu\n",
      "processing record |quimper\n",
      "processing record |guatire\n",
      "processing record |noumea\n",
      "processing record |sarishabari\n",
      "processing record |rapid valley\n",
      "processing record |goure\n",
      "processing record |rangkasbitung\n",
      "processing record |wana\n",
      "processing record |teknaf\n",
      "processing record |eenhana\n",
      "processing record |auki\n",
      "processing record |kamenskoye\n",
      "city not found. skipping\n",
      "processing record |anadyr\n",
      "processing record |nara\n",
      "processing record |villazon\n",
      "processing record |shushenskoye\n",
      "processing record |molteno\n",
      "processing record |kailua\n",
      "processing record |nome\n",
      "processing record |samarai\n",
      "processing record |safaqis\n",
      "city not found. skipping\n",
      "processing record |tabas\n",
      "processing record |quime\n",
      "processing record |plettenberg bay\n",
      "processing record |urman\n",
      "processing record |beihai\n"
     ]
    },
    {
     "name": "stdout",
     "output_type": "stream",
     "text": [
      "processing record |alekseyevsk\n",
      "processing record |markova\n",
      "processing record |egvekinot\n",
      "processing record |kilindoni\n",
      "processing record |hambantota\n",
      "processing record |oistins\n",
      "processing record |loa janan\n",
      "processing record |ormara\n",
      "processing record |port augusta\n",
      "processing record |hammerfest\n",
      "processing record |beboto\n",
      "processing record |gorontalo\n",
      "processing record |srandakan\n",
      "processing record |abu zabad\n",
      "processing record |kungurtug\n",
      "processing record |rocha\n",
      "processing record |rio grande\n",
      "processing record |taltal\n",
      "processing record |nizhneyansk\n",
      "city not found. skipping\n",
      "processing record |urulga\n",
      "city not found. skipping\n",
      "processing record |rawson\n",
      "processing record |erattupetta\n",
      "processing record |deputatskiy\n",
      "processing record |maroantsetra\n",
      "processing record |kamarion\n",
      "processing record |inhambane\n",
      "processing record |comodoro rivadavia\n",
      "processing record |karkaralinsk\n",
      "city not found. skipping\n",
      "processing record |port hawkesbury\n",
      "processing record |moultonborough\n",
      "processing record |georgiyevskoye\n",
      "processing record |brae\n",
      "processing record |dzhusaly\n",
      "city not found. skipping\n",
      "processing record |acapulco\n",
      "processing record |nsoko\n",
      "processing record |tocopilla\n",
      "processing record |ouallam\n",
      "processing record |pangnirtung\n",
      "processing record |dom pedro\n",
      "processing record |benicarlo\n",
      "processing record |omaruru\n",
      "processing record |hearst\n",
      "processing record |mogadishu\n",
      "processing record |helsinki\n",
      "processing record |wolsztyn\n",
      "processing record |zenzeli\n",
      "processing record |partenit\n",
      "processing record |urucara\n",
      "processing record |faya\n",
      "processing record |ust-maya\n",
      "processing record |manado\n",
      "processing record |henzada\n",
      "city not found. skipping\n",
      "processing record |dafeng\n",
      "processing record |fuling\n",
      "processing record |king city\n",
      "processing record |arman\n",
      "processing record |la romana\n",
      "processing record |crestview\n",
      "processing record |abeche\n",
      "processing record |kuusamo\n",
      "processing record |stuttgart\n",
      "processing record |labuan\n",
      "------------------------------------------------------------\n",
      "data retrieval complete\n",
      "------------------------------------------------------------\n"
     ]
    }
   ],
   "source": [
    "#Perform Weather Check\n",
    "weatherlist={}\n",
    "\n",
    "for index in range(0,len(cities)):\n",
    "    city=cities[index]\n",
    "    print (f'processing record |{city}')\n",
    "    url=f'http://api.openweathermap.org/data/2.5/weather?q={city}&units=imperial&APPID={weather_api_key}'   \n",
    "\n",
    "    response=requests.get(url)\n",
    "\n",
    "    if response.status_code==200:\n",
    "\n",
    "        weather_data=response.json()\n",
    "\n",
    "        city_weather=[\n",
    "            city,\n",
    "            weather_data['clouds']['all'],\n",
    "            weather_data['sys']['country'],\n",
    "            weather_data['dt'],\n",
    "            weather_data['main']['humidity'],\n",
    "            weather_data['coord']['lat'],\n",
    "            weather_data['coord']['lon'],\n",
    "            weather_data['main']['temp_max'],\n",
    "            weather_data['wind']['speed']\n",
    "        ]\n",
    "        \n",
    "        weatherlist[index]=city_weather\n",
    "    else:\n",
    "        print('city not found. skipping')\n",
    "print('------------------------------------------------------------')\n",
    "print('data retrieval complete')\n",
    "print('------------------------------------------------------------')"
   ]
  },
  {
   "cell_type": "markdown",
   "metadata": {},
   "source": [
    "### Convert Raw Data to DataFrame\n",
    "* Export the city data into a .csv.\n",
    "* Display the DataFrame"
   ]
  },
  {
   "cell_type": "code",
   "execution_count": 6,
   "metadata": {},
   "outputs": [
    {
     "data": {
      "text/html": [
       "<div>\n",
       "<style scoped>\n",
       "    .dataframe tbody tr th:only-of-type {\n",
       "        vertical-align: middle;\n",
       "    }\n",
       "\n",
       "    .dataframe tbody tr th {\n",
       "        vertical-align: top;\n",
       "    }\n",
       "\n",
       "    .dataframe thead th {\n",
       "        text-align: right;\n",
       "    }\n",
       "</style>\n",
       "<table border=\"1\" class=\"dataframe\">\n",
       "  <thead>\n",
       "    <tr style=\"text-align: right;\">\n",
       "      <th></th>\n",
       "      <th>City</th>\n",
       "      <th>Cloudiness</th>\n",
       "      <th>Country</th>\n",
       "      <th>Date</th>\n",
       "      <th>Humidity</th>\n",
       "      <th>Lat</th>\n",
       "      <th>Lng</th>\n",
       "      <th>Max Temp</th>\n",
       "      <th>Wind Speed</th>\n",
       "    </tr>\n",
       "  </thead>\n",
       "  <tbody>\n",
       "    <tr>\n",
       "      <th>0</th>\n",
       "      <td>port elizabeth</td>\n",
       "      <td>75</td>\n",
       "      <td>ZA</td>\n",
       "      <td>1603646148</td>\n",
       "      <td>77</td>\n",
       "      <td>-33.92</td>\n",
       "      <td>25.57</td>\n",
       "      <td>66.20</td>\n",
       "      <td>12.75</td>\n",
       "    </tr>\n",
       "    <tr>\n",
       "      <th>1</th>\n",
       "      <td>busselton</td>\n",
       "      <td>0</td>\n",
       "      <td>AU</td>\n",
       "      <td>1603646148</td>\n",
       "      <td>58</td>\n",
       "      <td>-33.65</td>\n",
       "      <td>115.33</td>\n",
       "      <td>57.99</td>\n",
       "      <td>2.75</td>\n",
       "    </tr>\n",
       "    <tr>\n",
       "      <th>2</th>\n",
       "      <td>mahebourg</td>\n",
       "      <td>75</td>\n",
       "      <td>MU</td>\n",
       "      <td>1603645859</td>\n",
       "      <td>73</td>\n",
       "      <td>-20.41</td>\n",
       "      <td>57.70</td>\n",
       "      <td>75.20</td>\n",
       "      <td>14.99</td>\n",
       "    </tr>\n",
       "    <tr>\n",
       "      <th>3</th>\n",
       "      <td>victoria</td>\n",
       "      <td>95</td>\n",
       "      <td>HK</td>\n",
       "      <td>1603646104</td>\n",
       "      <td>79</td>\n",
       "      <td>22.29</td>\n",
       "      <td>114.16</td>\n",
       "      <td>75.00</td>\n",
       "      <td>1.01</td>\n",
       "    </tr>\n",
       "    <tr>\n",
       "      <th>5</th>\n",
       "      <td>rikitea</td>\n",
       "      <td>100</td>\n",
       "      <td>PF</td>\n",
       "      <td>1603646149</td>\n",
       "      <td>88</td>\n",
       "      <td>-23.12</td>\n",
       "      <td>-134.97</td>\n",
       "      <td>71.38</td>\n",
       "      <td>17.36</td>\n",
       "    </tr>\n",
       "    <tr>\n",
       "      <th>...</th>\n",
       "      <td>...</td>\n",
       "      <td>...</td>\n",
       "      <td>...</td>\n",
       "      <td>...</td>\n",
       "      <td>...</td>\n",
       "      <td>...</td>\n",
       "      <td>...</td>\n",
       "      <td>...</td>\n",
       "      <td>...</td>\n",
       "    </tr>\n",
       "    <tr>\n",
       "      <th>599</th>\n",
       "      <td>crestview</td>\n",
       "      <td>75</td>\n",
       "      <td>US</td>\n",
       "      <td>1603646226</td>\n",
       "      <td>78</td>\n",
       "      <td>30.76</td>\n",
       "      <td>-86.57</td>\n",
       "      <td>75.99</td>\n",
       "      <td>4.70</td>\n",
       "    </tr>\n",
       "    <tr>\n",
       "      <th>600</th>\n",
       "      <td>abeche</td>\n",
       "      <td>20</td>\n",
       "      <td>TD</td>\n",
       "      <td>1603646226</td>\n",
       "      <td>15</td>\n",
       "      <td>13.83</td>\n",
       "      <td>20.83</td>\n",
       "      <td>87.17</td>\n",
       "      <td>9.71</td>\n",
       "    </tr>\n",
       "    <tr>\n",
       "      <th>601</th>\n",
       "      <td>kuusamo</td>\n",
       "      <td>90</td>\n",
       "      <td>FI</td>\n",
       "      <td>1603646226</td>\n",
       "      <td>92</td>\n",
       "      <td>65.97</td>\n",
       "      <td>29.18</td>\n",
       "      <td>30.20</td>\n",
       "      <td>4.70</td>\n",
       "    </tr>\n",
       "    <tr>\n",
       "      <th>602</th>\n",
       "      <td>stuttgart</td>\n",
       "      <td>20</td>\n",
       "      <td>DE</td>\n",
       "      <td>1603646114</td>\n",
       "      <td>66</td>\n",
       "      <td>48.78</td>\n",
       "      <td>9.18</td>\n",
       "      <td>55.40</td>\n",
       "      <td>4.70</td>\n",
       "    </tr>\n",
       "    <tr>\n",
       "      <th>603</th>\n",
       "      <td>labuan</td>\n",
       "      <td>20</td>\n",
       "      <td>MY</td>\n",
       "      <td>1603646226</td>\n",
       "      <td>94</td>\n",
       "      <td>5.28</td>\n",
       "      <td>115.24</td>\n",
       "      <td>77.00</td>\n",
       "      <td>1.12</td>\n",
       "    </tr>\n",
       "  </tbody>\n",
       "</table>\n",
       "<p>556 rows × 9 columns</p>\n",
       "</div>"
      ],
      "text/plain": [
       "               City  Cloudiness Country        Date  Humidity    Lat     Lng  \\\n",
       "0    port elizabeth          75      ZA  1603646148        77 -33.92   25.57   \n",
       "1         busselton           0      AU  1603646148        58 -33.65  115.33   \n",
       "2         mahebourg          75      MU  1603645859        73 -20.41   57.70   \n",
       "3          victoria          95      HK  1603646104        79  22.29  114.16   \n",
       "5           rikitea         100      PF  1603646149        88 -23.12 -134.97   \n",
       "..              ...         ...     ...         ...       ...    ...     ...   \n",
       "599       crestview          75      US  1603646226        78  30.76  -86.57   \n",
       "600          abeche          20      TD  1603646226        15  13.83   20.83   \n",
       "601         kuusamo          90      FI  1603646226        92  65.97   29.18   \n",
       "602       stuttgart          20      DE  1603646114        66  48.78    9.18   \n",
       "603          labuan          20      MY  1603646226        94   5.28  115.24   \n",
       "\n",
       "     Max Temp  Wind Speed  \n",
       "0       66.20       12.75  \n",
       "1       57.99        2.75  \n",
       "2       75.20       14.99  \n",
       "3       75.00        1.01  \n",
       "5       71.38       17.36  \n",
       "..        ...         ...  \n",
       "599     75.99        4.70  \n",
       "600     87.17        9.71  \n",
       "601     30.20        4.70  \n",
       "602     55.40        4.70  \n",
       "603     77.00        1.12  \n",
       "\n",
       "[556 rows x 9 columns]"
      ]
     },
     "execution_count": 6,
     "metadata": {},
     "output_type": "execute_result"
    }
   ],
   "source": [
    "#Export City Data into a csv and Display the DataFrame\n",
    "df=pd.DataFrame.from_dict(weatherlist,orient='index',columns=['City','Cloudiness','Country','Date','Humidity','Lat','Lng','Max Temp','Wind Speed'])\n",
    "df.to_csv(output_data_file, \",\",header=True,columns=['City','Cloudiness','Country','Date','Humidity','Lat','Lng','Max Temp','Wind Speed'],index=True,index_label='City_ID')\n",
    "df"
   ]
  },
  {
   "cell_type": "code",
   "execution_count": 12,
   "metadata": {},
   "outputs": [
    {
     "data": {
      "text/html": [
       "<div>\n",
       "<style scoped>\n",
       "    .dataframe tbody tr th:only-of-type {\n",
       "        vertical-align: middle;\n",
       "    }\n",
       "\n",
       "    .dataframe tbody tr th {\n",
       "        vertical-align: top;\n",
       "    }\n",
       "\n",
       "    .dataframe thead th {\n",
       "        text-align: right;\n",
       "    }\n",
       "</style>\n",
       "<table border=\"1\" class=\"dataframe\">\n",
       "  <thead>\n",
       "    <tr style=\"text-align: right;\">\n",
       "      <th></th>\n",
       "      <th>Cloudiness</th>\n",
       "      <th>Date</th>\n",
       "      <th>Humidity</th>\n",
       "      <th>Lat</th>\n",
       "      <th>Lng</th>\n",
       "      <th>Max Temp</th>\n",
       "      <th>Wind Speed</th>\n",
       "    </tr>\n",
       "  </thead>\n",
       "  <tbody>\n",
       "    <tr>\n",
       "      <th>count</th>\n",
       "      <td>566.000000</td>\n",
       "      <td>5.660000e+02</td>\n",
       "      <td>566.000000</td>\n",
       "      <td>566.000000</td>\n",
       "      <td>566.000000</td>\n",
       "      <td>566.000000</td>\n",
       "      <td>566.000000</td>\n",
       "    </tr>\n",
       "    <tr>\n",
       "      <th>mean</th>\n",
       "      <td>55.289753</td>\n",
       "      <td>1.603475e+09</td>\n",
       "      <td>71.913428</td>\n",
       "      <td>18.844558</td>\n",
       "      <td>18.154664</td>\n",
       "      <td>62.032527</td>\n",
       "      <td>8.228004</td>\n",
       "    </tr>\n",
       "    <tr>\n",
       "      <th>std</th>\n",
       "      <td>36.786408</td>\n",
       "      <td>9.026737e+01</td>\n",
       "      <td>21.193702</td>\n",
       "      <td>33.250653</td>\n",
       "      <td>90.710036</td>\n",
       "      <td>21.751347</td>\n",
       "      <td>5.834941</td>\n",
       "    </tr>\n",
       "    <tr>\n",
       "      <th>min</th>\n",
       "      <td>0.000000</td>\n",
       "      <td>1.603474e+09</td>\n",
       "      <td>1.000000</td>\n",
       "      <td>-54.800000</td>\n",
       "      <td>-179.170000</td>\n",
       "      <td>-2.200000</td>\n",
       "      <td>0.360000</td>\n",
       "    </tr>\n",
       "    <tr>\n",
       "      <th>25%</th>\n",
       "      <td>20.000000</td>\n",
       "      <td>1.603475e+09</td>\n",
       "      <td>63.000000</td>\n",
       "      <td>-8.922500</td>\n",
       "      <td>-60.657500</td>\n",
       "      <td>47.145000</td>\n",
       "      <td>4.230000</td>\n",
       "    </tr>\n",
       "    <tr>\n",
       "      <th>50%</th>\n",
       "      <td>68.500000</td>\n",
       "      <td>1.603475e+09</td>\n",
       "      <td>76.000000</td>\n",
       "      <td>20.970000</td>\n",
       "      <td>22.625000</td>\n",
       "      <td>69.090000</td>\n",
       "      <td>6.930000</td>\n",
       "    </tr>\n",
       "    <tr>\n",
       "      <th>75%</th>\n",
       "      <td>90.000000</td>\n",
       "      <td>1.603475e+09</td>\n",
       "      <td>87.000000</td>\n",
       "      <td>46.512500</td>\n",
       "      <td>102.330000</td>\n",
       "      <td>78.750000</td>\n",
       "      <td>11.135000</td>\n",
       "    </tr>\n",
       "    <tr>\n",
       "      <th>max</th>\n",
       "      <td>100.000000</td>\n",
       "      <td>1.603475e+09</td>\n",
       "      <td>100.000000</td>\n",
       "      <td>78.220000</td>\n",
       "      <td>179.320000</td>\n",
       "      <td>101.660000</td>\n",
       "      <td>48.320000</td>\n",
       "    </tr>\n",
       "  </tbody>\n",
       "</table>\n",
       "</div>"
      ],
      "text/plain": [
       "       Cloudiness          Date    Humidity         Lat         Lng  \\\n",
       "count  566.000000  5.660000e+02  566.000000  566.000000  566.000000   \n",
       "mean    55.289753  1.603475e+09   71.913428   18.844558   18.154664   \n",
       "std     36.786408  9.026737e+01   21.193702   33.250653   90.710036   \n",
       "min      0.000000  1.603474e+09    1.000000  -54.800000 -179.170000   \n",
       "25%     20.000000  1.603475e+09   63.000000   -8.922500  -60.657500   \n",
       "50%     68.500000  1.603475e+09   76.000000   20.970000   22.625000   \n",
       "75%     90.000000  1.603475e+09   87.000000   46.512500  102.330000   \n",
       "max    100.000000  1.603475e+09  100.000000   78.220000  179.320000   \n",
       "\n",
       "         Max Temp  Wind Speed  \n",
       "count  566.000000  566.000000  \n",
       "mean    62.032527    8.228004  \n",
       "std     21.751347    5.834941  \n",
       "min     -2.200000    0.360000  \n",
       "25%     47.145000    4.230000  \n",
       "50%     69.090000    6.930000  \n",
       "75%     78.750000   11.135000  \n",
       "max    101.660000   48.320000  "
      ]
     },
     "execution_count": 12,
     "metadata": {},
     "output_type": "execute_result"
    }
   ],
   "source": [
    "# Describe the DataFrame\n",
    "df.describe()"
   ]
  },
  {
   "cell_type": "code",
   "execution_count": null,
   "metadata": {},
   "outputs": [],
   "source": []
  },
  {
   "cell_type": "markdown",
   "metadata": {},
   "source": [
    "## Inspect the data and remove the cities where the humidity > 100%.\n",
    "----\n",
    "Skip this step if there are no cities that have humidity > 100%. "
   ]
  },
  {
   "cell_type": "code",
   "execution_count": null,
   "metadata": {},
   "outputs": [],
   "source": []
  },
  {
   "cell_type": "code",
   "execution_count": null,
   "metadata": {},
   "outputs": [],
   "source": [
    "#  Get the indices of cities that have humidity over 100%.\n"
   ]
  },
  {
   "cell_type": "code",
   "execution_count": null,
   "metadata": {},
   "outputs": [],
   "source": [
    "# Make a new DataFrame equal to the city data to drop all humidity outliers by index.\n",
    "# Passing \"inplace=False\" will make a copy of the city_data DataFrame, which we call \"clean_city_data\".\n"
   ]
  },
  {
   "cell_type": "code",
   "execution_count": null,
   "metadata": {},
   "outputs": [],
   "source": [
    "\n"
   ]
  },
  {
   "cell_type": "markdown",
   "metadata": {},
   "source": [
    "## Plotting the Data\n",
    "* Use proper labeling of the plots using plot titles (including date of analysis) and axes labels.\n",
    "* Save the plotted figures as .pngs."
   ]
  },
  {
   "cell_type": "markdown",
   "metadata": {},
   "source": [
    "## Latitude vs. Temperature Plot"
   ]
  },
  {
   "cell_type": "code",
   "execution_count": 15,
   "metadata": {
    "scrolled": true
   },
   "outputs": [
    {
     "data": {
      "image/png": "[encoded data removed]",
      "text/plain": [
       "<Figure size 432x288 with 1 Axes>"
      ]
     },
     "metadata": {
      "needs_background": "light"
     },
     "output_type": "display_data"
    }
   ],
   "source": [
    "# Scatter Plot Lattitude vs Temperature\n",
    "x=df['Lat']\n",
    "y=df['Max Temp']\n",
    "fig=plt.figure()\n",
    "plt.scatter(x,y)\n",
    "plt.xlabel('Latitude')\n",
    "plt.ylabel('Max Temperature (F)')\n",
    "plt.title('City Latitude vs Max Temperature 10/23/2020')\n",
    "plt.show()"
   ]
  },
  {
   "cell_type": "markdown",
   "metadata": {},
   "source": [
    "## Latitude vs. Humidity Plot"
   ]
  },
  {
   "cell_type": "code",
   "execution_count": 16,
   "metadata": {},
   "outputs": [
    {
     "data": {
      "image/png": "[encoded data removed]",
      "text/plain": [
       "<Figure size 432x288 with 1 Axes>"
      ]
     },
     "metadata": {
      "needs_background": "light"
     },
     "output_type": "display_data"
    }
   ],
   "source": [
    "# Scatter Plot Lattitude vs Humidity\n",
    "x=df['Lat']\n",
    "y=df['Humidity']\n",
    "fig=plt.figure()\n",
    "plt.scatter(x,y)\n",
    "plt.xlabel('Latitude')\n",
    "plt.ylabel('Humidity (%)')\n",
    "plt.title('City Latitude vs Humidity 10/23/2020')\n",
    "plt.show()"
   ]
  },
  {
   "cell_type": "markdown",
   "metadata": {},
   "source": [
    "## Latitude vs. Cloudiness Plot"
   ]
  },
  {
   "cell_type": "code",
   "execution_count": 17,
   "metadata": {},
   "outputs": [
    {
     "data": {
      "image/png": "[encoded data removed]",
      "text/plain": [
       "<Figure size 432x288 with 1 Axes>"
      ]
     },
     "metadata": {
      "needs_background": "light"
     },
     "output_type": "display_data"
    }
   ],
   "source": [
    "# Scatter Plot Lattitude vs Cloudiness\n",
    "x=df['Lat']\n",
    "y=df['Cloudiness']\n",
    "fig=plt.figure()\n",
    "plt.scatter(x,y)\n",
    "plt.xlabel('Latitude')\n",
    "plt.ylabel('Cloudiness (%)')\n",
    "plt.title('City Latitude vs Cloudiness 10/23/2020')\n",
    "plt.show()"
   ]
  },
  {
   "cell_type": "markdown",
   "metadata": {},
   "source": [
    "## Latitude vs. Wind Speed Plot"
   ]
  },
  {
   "cell_type": "code",
   "execution_count": 19,
   "metadata": {},
   "outputs": [
    {
     "data": {
      "image/png": "[encoded data removed]",
      "text/plain": [
       "<Figure size 432x288 with 1 Axes>"
      ]
     },
     "metadata": {
      "needs_background": "light"
     },
     "output_type": "display_data"
    }
   ],
   "source": [
    "# Scatter Plot Lattitude vs Wind Speed\n",
    "x=df['Lat']\n",
    "y=df['Wind Speed']\n",
    "fig=plt.figure()\n",
    "plt.scatter(x,y)\n",
    "plt.xlabel('Latitude')\n",
    "plt.ylabel('Wind Speed (mph)')\n",
    "plt.title('City Latitude vs Wind Speed (mph)10/23/2020')\n",
    "plt.show()"
   ]
  },
  {
   "cell_type": "markdown",
   "metadata": {},
   "source": [
    "## Linear Regression"
   ]
  },
  {
   "cell_type": "code",
   "execution_count": null,
   "metadata": {},
   "outputs": [],
   "source": []
  },
  {
   "cell_type": "markdown",
   "metadata": {},
   "source": [
    "####  Northern Hemisphere - Max Temp vs. Latitude Linear Regression"
   ]
  },
  {
   "cell_type": "code",
   "execution_count": 15,
   "metadata": {},
   "outputs": [
    {
     "name": "stdout",
     "output_type": "stream",
     "text": [
      "The R value is  -0.8885301765079167\n"
     ]
    },
    {
     "data": {
      "image/png": "[encoded data removed]",
      "text/plain": [
       "<Figure size 432x288 with 1 Axes>"
      ]
     },
     "metadata": {
      "needs_background": "light"
     },
     "output_type": "display_data"
    }
   ],
   "source": [
    "#Northern Hemisphere Scatter Plot with Linear Regression: Max Temp vs. Latitude\n",
    "x= df[df['Lat']>0]['Lat']\n",
    "y= df[df['Lat']>0]['Max Temp']\n",
    "slope,intercept,r_value,p_value,std_err=linregress(x,y)\n",
    "print('The R value is ',r_value)\n",
    "fig=plt.figure()\n",
    "plt.scatter(x,y)\n",
    "plt.xlabel('Latitude')\n",
    "plt.ylabel('Max Temp')\n",
    "plt.plot(x, intercept + slope*x, 'r', label='y={:.2f}x+{:.2f}'.format(slope,intercept))\n",
    "plt.show()\n",
    "\n",
    "\n"
   ]
  },
  {
   "cell_type": "markdown",
   "metadata": {},
   "source": [
    "####  Southern Hemisphere - Max Temp vs. Latitude Linear Regression"
   ]
  },
  {
   "cell_type": "code",
   "execution_count": 24,
   "metadata": {},
   "outputs": [
    {
     "name": "stdout",
     "output_type": "stream",
     "text": [
      "The R value is  0.7073040331825534\n"
     ]
    },
    {
     "data": {
      "image/png": "[encoded data removed]",
      "text/plain": [
       "<Figure size 432x288 with 1 Axes>"
      ]
     },
     "metadata": {
      "needs_background": "light"
     },
     "output_type": "display_data"
    }
   ],
   "source": [
    "x= df[df['Lat']<0]['Lat']\n",
    "y= df[df['Lat']<0]['Max Temp']\n",
    "slope,intercept,r_value,p_value,std_err=linregress(x,y)\n",
    "print('The R value is ',r_value)\n",
    "fig=plt.figure()\n",
    "plt.scatter(x,y)\n",
    "plt.xlabel('Latitude')\n",
    "plt.ylabel('Max Temp')\n",
    "plt.plot(x, intercept + slope*x, 'r', label='y={:.2f}x+{:.2f}'.format(slope,intercept))\n",
    "plt.show()"
   ]
  },
  {
   "cell_type": "markdown",
   "metadata": {},
   "source": [
    "####  Northern Hemisphere - Humidity (%) vs. Latitude Linear Regression"
   ]
  },
  {
   "cell_type": "code",
   "execution_count": 22,
   "metadata": {},
   "outputs": [
    {
     "name": "stdout",
     "output_type": "stream",
     "text": [
      "The R value is  0.3561915165221735\n"
     ]
    },
    {
     "data": {
      "image/png": "[encoded data removed]",
      "text/plain": [
       "<Figure size 432x288 with 1 Axes>"
      ]
     },
     "metadata": {
      "needs_background": "light"
     },
     "output_type": "display_data"
    }
   ],
   "source": [
    "#Scatter Plot with Linear Regression line for the Northern Hemisphere Humidity vs Latitude\n",
    "x= df[df['Lat']>0]['Lat']\n",
    "y= df[df['Lat']>0]['Humidity']\n",
    "slope,intercept,r_value,p_value,std_err=linregress(x,y)\n",
    "print('The R value is ',r_value)\n",
    "fig=plt.figure()\n",
    "plt.scatter(x,y)\n",
    "plt.xlabel('Latitude')\n",
    "plt.ylabel('Humidity (%)')\n",
    "plt.plot(x, intercept + slope*x, 'r', label='y={:.2f}x+{:.2f}'.format(slope,intercept))\n",
    "plt.show()"
   ]
  },
  {
   "cell_type": "markdown",
   "metadata": {},
   "source": [
    "####  Southern Hemisphere - Humidity (%) vs. Latitude Linear Regression"
   ]
  },
  {
   "cell_type": "code",
   "execution_count": 25,
   "metadata": {},
   "outputs": [
    {
     "name": "stdout",
     "output_type": "stream",
     "text": [
      "The R value is  -0.07888621745439829\n"
     ]
    },
    {
     "data": {
      "image/png": "[encoded data removed]",
      "text/plain": [
       "<Figure size 432x288 with 1 Axes>"
      ]
     },
     "metadata": {
      "needs_background": "light"
     },
     "output_type": "display_data"
    }
   ],
   "source": [
    "#Scatter Plot with Linear Regression line for the Southern Hemisphere Humidity vs Latitude\n",
    "x= df[df['Lat']<0]['Lat']\n",
    "y= df[df['Lat']<0]['Humidity']\n",
    "slope,intercept,r_value,p_value,std_err=linregress(x,y)\n",
    "print('The R value is ',r_value)\n",
    "fig=plt.figure()\n",
    "plt.scatter(x,y)\n",
    "plt.xlabel('Latitude')\n",
    "plt.ylabel('Humidity (%)')\n",
    "plt.plot(x, intercept + slope*x, 'r', label='y={:.2f}x+{:.2f}'.format(slope,intercept))\n",
    "plt.show()"
   ]
  },
  {
   "cell_type": "markdown",
   "metadata": {},
   "source": [
    "####  Northern Hemisphere - Cloudiness (%) vs. Latitude Linear Regression"
   ]
  },
  {
   "cell_type": "code",
   "execution_count": 18,
   "metadata": {},
   "outputs": [
    {
     "name": "stdout",
     "output_type": "stream",
     "text": [
      "The R value is  0.20021965187154664\n"
     ]
    },
    {
     "data": {
      "image/png": "[encoded data removed]",
      "text/plain": [
       "<Figure size 432x288 with 1 Axes>"
      ]
     },
     "metadata": {
      "needs_background": "light"
     },
     "output_type": "display_data"
    }
   ],
   "source": [
    "#Scatter Plot with Linear Regression line for the Northern Hemisphere Cloudiness(%) vs Latitude\n",
    "x= df[df['Lat']>0]['Lat']\n",
    "y= df[df['Lat']>0]['Cloudiness']\n",
    "slope,intercept,r_value,p_value,std_err=linregress(x,y)\n",
    "print('The R value is ',r_value)\n",
    "fig=plt.figure()\n",
    "plt.scatter(x,y)\n",
    "plt.xlabel('Latitude')\n",
    "plt.ylabel('Cloudiness (%)')\n",
    "plt.plot(x, intercept + slope*x, 'r', label='y={:.2f}x+{:.2f}'.format(slope,intercept))\n",
    "plt.show()"
   ]
  },
  {
   "cell_type": "markdown",
   "metadata": {},
   "source": [
    "####  Southern Hemisphere - Cloudiness (%) vs. Latitude Linear Regression"
   ]
  },
  {
   "cell_type": "code",
   "execution_count": 26,
   "metadata": {},
   "outputs": [
    {
     "name": "stdout",
     "output_type": "stream",
     "text": [
      "The R value is  0.07999759688929242\n"
     ]
    },
    {
     "data": {
      "image/png": "[encoded data removed]",
      "text/plain": [
       "<Figure size 432x288 with 1 Axes>"
      ]
     },
     "metadata": {
      "needs_background": "light"
     },
     "output_type": "display_data"
    }
   ],
   "source": [
    "#Scatter Plot with Linear Regression line for the Southern Hemisphere Cloudiness(%) vs Latitude\n",
    "x= df[df['Lat']<0]['Lat']\n",
    "y= df[df['Lat']<0]['Cloudiness']\n",
    "slope,intercept,r_value,p_value,std_err=linregress(x,y)\n",
    "print('The R value is ',r_value)\n",
    "fig=plt.figure()\n",
    "plt.scatter(x,y)\n",
    "plt.xlabel('Latitude')\n",
    "plt.ylabel('Cloudiness (%)')\n",
    "plt.plot(x, intercept + slope*x, 'r', label='y={:.2f}x+{:.2f}'.format(slope,intercept))\n",
    "plt.show()"
   ]
  },
  {
   "cell_type": "markdown",
   "metadata": {},
   "source": [
    "####  Northern Hemisphere - Wind Speed (mph) vs. Latitude Linear Regression"
   ]
  },
  {
   "cell_type": "code",
   "execution_count": 19,
   "metadata": {},
   "outputs": [
    {
     "name": "stdout",
     "output_type": "stream",
     "text": [
      "The R value is  0.16089257844966032\n"
     ]
    },
    {
     "data": {
      "image/png": "[encoded data removed]",
      "text/plain": [
       "<Figure size 432x288 with 1 Axes>"
      ]
     },
     "metadata": {
      "needs_background": "light"
     },
     "output_type": "display_data"
    }
   ],
   "source": [
    "#Scatter Plot with Linear Regression line for the Northern Hemisphere Wind Speed vs Latitude\n",
    "x= df[df['Lat']>0]['Lat']\n",
    "y= df[df['Lat']>0]['Wind Speed']\n",
    "slope,intercept,r_value,p_value,std_err=linregress(x,y)\n",
    "print('The R value is ',r_value)\n",
    "fig=plt.figure()\n",
    "plt.scatter(x,y)\n",
    "plt.xlabel('Latitude')\n",
    "plt.ylabel('Wind Speed (mph)')\n",
    "plt.plot(x, intercept + slope*x, 'r', label='y={:.2f}x+{:.2f}'.format(slope,intercept))\n",
    "plt.show()"
   ]
  },
  {
   "cell_type": "markdown",
   "metadata": {},
   "source": [
    "####  Southern Hemisphere - Wind Speed (mph) vs. Latitude Linear Regression"
   ]
  },
  {
   "cell_type": "code",
   "execution_count": 27,
   "metadata": {},
   "outputs": [
    {
     "name": "stdout",
     "output_type": "stream",
     "text": [
      "The R value is  -0.21563927229700366\n"
     ]
    },
    {
     "data": {
      "image/png": "[encoded data removed]",
      "text/plain": [
       "<Figure size 432x288 with 1 Axes>"
      ]
     },
     "metadata": {
      "needs_background": "light"
     },
     "output_type": "display_data"
    }
   ],
   "source": [
    "#Scatter Plot with Linear Regression line for the Southern Hemisphere Wind Speed vs Latitude\n",
    "x= df[df['Lat']<0]['Lat']\n",
    "y= df[df['Lat']<0]['Wind Speed']\n",
    "slope,intercept,r_value,p_value,std_err=linregress(x,y)\n",
    "print('The R value is ',r_value)\n",
    "fig=plt.figure()\n",
    "plt.scatter(x,y)\n",
    "plt.xlabel('Latitude')\n",
    "plt.ylabel('Wind Speed (mph)')\n",
    "plt.plot(x, intercept + slope*x, 'r', label='y={:.2f}x+{:.2f}'.format(slope,intercept))\n",
    "plt.show()"
   ]
  },
  {
   "cell_type": "code",
   "execution_count": null,
   "metadata": {},
   "outputs": [],
   "source": []
  }
 ],
 "metadata": {
  "anaconda-cloud": {},
  "kernel_info": {
   "name": "python3"
  },
  "kernelspec": {
   "display_name": "Python [conda env:PythonData] *",
   "language": "python",
   "name": "conda-env-PythonData-py"
  },
  "language_info": {
   "codemirror_mode": {
    "name": "ipython",
    "version": 3
   },
   "file_extension": ".py",
   "mimetype": "text/x-python",
   "name": "python",
   "nbconvert_exporter": "python",
   "pygments_lexer": "ipython3",
   "version": "3.6.10"
  },
  "latex_envs": {
   "LaTeX_envs_menu_present": true,
   "autoclose": false,
   "autocomplete": true,
   "bibliofile": "biblio.bib",
   "cite_by": "apalike",
   "current_citInitial": 1,
   "eqLabelWithNumbers": true,
   "eqNumInitial": 1,
   "hotkeys": {
    "equation": "Ctrl-E",
    "itemize": "Ctrl-I"
   },
   "labels_anchors": false,
   "latex_user_defs": false,
   "report_style_numbering": false,
   "user_envs_cfg": false
  },
  "nteract": {
   "version": "0.12.3"
  }
 },
 "nbformat": 4,
 "nbformat_minor": 2
}
